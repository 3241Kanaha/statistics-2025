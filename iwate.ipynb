{
 "cells": [
  {
   "cell_type": "code",
   "execution_count": 1,
   "id": "b16d7fb7",
   "metadata": {},
   "outputs": [],
   "source": [
    "import numpy as np\n",
    "import pandas as pd\n",
    "import matplotlib.pyplot as plt\n",
    "import seaborn as sns"
   ]
  },
  {
   "cell_type": "code",
   "execution_count": 2,
   "id": "a696e568",
   "metadata": {},
   "outputs": [
    {
     "name": "stdout",
     "output_type": "stream",
     "text": [
      "  SSDSE-D-2023   2021年 Prefecture         MA00           MB00  MB01 MB011  \\\n",
      "0         男女の別   地域コード       都道府県  推定人口（10歳以上）  学習・自己啓発・訓練の総数   外国語    英語   \n",
      "1         0_総数  R00000         全国       112462           39.6  14.1  12.8   \n",
      "2         0_総数  R01000        北海道         4614             35  11.1   9.9   \n",
      "3         0_総数  R02000        青森県         1090           25.4   7.4   6.6   \n",
      "4         0_総数  R03000        岩手県         1075           28.9   7.7   7.1   \n",
      "\n",
      "      MB012             MB02        MB021  ... MG20   MG51 MG52 MG53  \\\n",
      "0  英語以外の外国語  商業実務・ビジネス関係(総数)  パソコンなどの情報処理  ...  その他  通勤・通学   仕事   学業   \n",
      "1       4.2             20.1         16.5  ...   16     79  340  393   \n",
      "2       3.3               17         14.1  ...   15     64  343  391   \n",
      "3         2             12.7         10.3  ...   12     61  370  423   \n",
      "4       2.4             12.8         10.3  ...   17     63  362  472   \n",
      "\n",
      "       MH01      MH02      MH03      MH04      MH51       MH52  \n",
      "0        起床      朝食開始      夕食開始        就寝        出勤  仕事からの帰宅時間  \n",
      "1  06:38:00  07:11:00  18:58:00  23:04:00  08:20:00   18:34:00  \n",
      "2  06:33:00  07:13:00  18:36:00  22:50:00  08:19:00   18:07:00  \n",
      "3  06:17:00  06:59:00  18:31:00  22:29:00  08:09:00   18:01:00  \n",
      "4  06:21:00  06:59:00  18:44:00  22:35:00  08:09:00   18:06:00  \n",
      "\n",
      "[5 rows x 124 columns]\n"
     ]
    }
   ],
   "source": [
    "file_path = '/Users/kanaha/statistics/SSDSE-D-2023.xlsx'\n",
    "df = pd.read_excel(file_path)\n",
    "print(df.head())"
   ]
  },
  {
   "cell_type": "code",
   "execution_count": null,
   "id": "1e4ee300",
   "metadata": {},
   "outputs": [],
   "source": []
  }
 ],
 "metadata": {
  "kernelspec": {
   "display_name": ".venv",
   "language": "python",
   "name": "python3"
  },
  "language_info": {
   "codemirror_mode": {
    "name": "ipython",
    "version": 3
   },
   "file_extension": ".py",
   "mimetype": "text/x-python",
   "name": "python",
   "nbconvert_exporter": "python",
   "pygments_lexer": "ipython3",
   "version": "3.12.7"
  }
 },
 "nbformat": 4,
 "nbformat_minor": 5
}
