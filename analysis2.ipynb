{
 "cells": [
  {
   "cell_type": "code",
   "execution_count": null,
   "id": "8febf496",
   "metadata": {},
   "outputs": [],
   "source": [
    "# 重回帰分析の結果の係数と信頼区間を可視化\n",
    "import numpy as np\n",
    "import pandas as pd\n",
    "import matplotlib.pyplot as plt\n",
    "\n",
    "# 結果オブジェクトから係数と信頼区間を取得\n",
    "coefficients = results.params.drop('const')\n",
    "conf_int = results.conf_int().drop('const')\n",
    "\n",
    "# グラフ描画のためのデータフレームを作成\n",
    "plot_df = pd.DataFrame({\n",
    "    'coefficients': coefficients,\n",
    "    'lower_ci': conf_int[0],\n",
    "    'upper_ci': conf_int[1]\n",
    "})\n",
    "plot_df.index.name = 'Variable'\n",
    "plot_df = plot_df.sort_values(by='coefficients', ascending=True)\n",
    "\n",
    "# グラフの設定\n",
    "plt.rcParams['font.family'] = 'sans-serif'\n",
    "plt.rcParams['font.sans-serif'] = ['Hiragino Maru Gothic Pro', 'Yu Gothic', 'Meiryo', 'TakaoGothic', 'IPAexGothic', 'IPAPGothic', 'VL Gothic', 'Noto Sans CJK JP']\n",
    "\n",
    "# 水平棒グラフの作成\n",
    "fig, ax = plt.subplots(figsize=(10, 6))\n",
    "y_pos = np.arange(len(plot_df.index))\n",
    "ax.barh(y_pos, plot_df['coefficients'], xerr=plot_df['upper_ci'] - plot_df['coefficients'], align='center',\n",
    "        color='skyblue', ecolor='gray', capsize=5)\n",
    "\n",
    "# 軸ラベルとタイトルを設定\n",
    "ax.set_yticks(y_pos)\n",
    "ax.set_yticklabels(plot_df.index)\n",
    "ax.set_xlabel('係数の値')\n",
    "ax.set_title('家事時間の男女格差に影響を与える要因の分析')\n",
    "ax.axvline(x=0, color='red', linestyle='--')\n",
    "ax.grid(axis='x', linestyle='--', alpha=0.6)\n",
    "\n",
    "plt.tight_layout()\n",
    "plt.savefig('regression_coefficients_plot.png')\n",
    "\n",
    "print(\"回帰分析の係数と信頼区間を可視化したグラフを作成しました。\")"
   ]
  }
 ],
 "metadata": {
  "language_info": {
   "name": "python"
  }
 },
 "nbformat": 4,
 "nbformat_minor": 5
}
