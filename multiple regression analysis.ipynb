{
 "cells": [
  {
   "cell_type": "code",
   "execution_count": 1,
   "id": "b7612c5d",
   "metadata": {},
   "outputs": [],
   "source": [
    "import numpy as np\n",
    "import pandas as pd\n",
    "import matplotlib.pyplot as plt\n",
    "import seaborn as sns"
   ]
  },
  {
   "cell_type": "code",
   "execution_count": 2,
   "id": "99be30b3",
   "metadata": {},
   "outputs": [
    {
     "name": "stdout",
     "output_type": "stream",
     "text": [
      "  SSDSE-D-2023   2021年 Prefecture         MA00           MB00  MB01 MB011  \\\n",
      "0         男女の別   地域コード       都道府県  推定人口（10歳以上）  学習・自己啓発・訓練の総数   外国語    英語   \n",
      "1         0_総数  R00000         全国       112462           39.6  14.1  12.8   \n",
      "2         0_総数  R01000        北海道         4614             35  11.1   9.9   \n",
      "3         0_総数  R02000        青森県         1090           25.4   7.4   6.6   \n",
      "4         0_総数  R03000        岩手県         1075           28.9   7.7   7.1   \n",
      "\n",
      "      MB012             MB02        MB021  ... MG20   MG51 MG52 MG53  \\\n",
      "0  英語以外の外国語  商業実務・ビジネス関係(総数)  パソコンなどの情報処理  ...  その他  通勤・通学   仕事   学業   \n",
      "1       4.2             20.1         16.5  ...   16     79  340  393   \n",
      "2       3.3               17         14.1  ...   15     64  343  391   \n",
      "3         2             12.7         10.3  ...   12     61  370  423   \n",
      "4       2.4             12.8         10.3  ...   17     63  362  472   \n",
      "\n",
      "       MH01      MH02      MH03      MH04      MH51       MH52  \n",
      "0        起床      朝食開始      夕食開始        就寝        出勤  仕事からの帰宅時間  \n",
      "1  06:38:00  07:11:00  18:58:00  23:04:00  08:20:00   18:34:00  \n",
      "2  06:33:00  07:13:00  18:36:00  22:50:00  08:19:00   18:07:00  \n",
      "3  06:17:00  06:59:00  18:31:00  22:29:00  08:09:00   18:01:00  \n",
      "4  06:21:00  06:59:00  18:44:00  22:35:00  08:09:00   18:06:00  \n",
      "\n",
      "[5 rows x 124 columns]\n"
     ]
    }
   ],
   "source": [
    "file_path = '/Users/kanaha/statistics/SSDSE-D-2023.xlsx'\n",
    "df = pd.read_excel(file_path)\n",
    "print(df.head())"
   ]
  },
  {
   "cell_type": "code",
   "execution_count": 3,
   "id": "8f202070",
   "metadata": {},
   "outputs": [
    {
     "name": "stdout",
     "output_type": "stream",
     "text": [
      "   男女の別 都道府県  推定人口（10歳以上）  学習・自己啓発・訓練の総数   外国語    英語  英語以外の外国語  \\\n",
      "0  0_総数   全国       112462           39.6  14.1  12.8       4.2   \n",
      "1  0_総数  北海道         4614           35.0  11.1   9.9       3.3   \n",
      "2  0_総数  青森県         1090           25.4   7.4   6.6       2.0   \n",
      "3  0_総数  岩手県         1075           28.9   7.7   7.1       2.4   \n",
      "4  0_総数  宮城県         2065           37.5  12.4  10.9       4.0   \n",
      "\n",
      "   商業実務・ビジネス関係(総数)  パソコンなどの情報処理  商業実務・ビジネス関係  ...  その他.4  通勤・通学.1  仕事.1  学業.1  \\\n",
      "0             20.1         16.5          8.5  ...     16       79   340   393   \n",
      "1             17.0         14.1          6.7  ...     15       64   343   391   \n",
      "2             12.7         10.3          5.2  ...     12       61   370   423   \n",
      "3             12.8         10.3          5.4  ...     17       63   362   472   \n",
      "4             18.9         16.0          7.4  ...     16       73   352   395   \n",
      "\n",
      "         起床      朝食開始      夕食開始        就寝        出勤  仕事からの帰宅時間  \n",
      "0  06:38:00  07:11:00  18:58:00  23:04:00  08:20:00   18:34:00  \n",
      "1  06:33:00  07:13:00  18:36:00  22:50:00  08:19:00   18:07:00  \n",
      "2  06:17:00  06:59:00  18:31:00  22:29:00  08:09:00   18:01:00  \n",
      "3  06:21:00  06:59:00  18:44:00  22:35:00  08:09:00   18:06:00  \n",
      "4  06:31:00  07:12:00  18:49:00  22:49:00  08:08:00   18:26:00  \n",
      "\n",
      "[5 rows x 123 columns]\n"
     ]
    }
   ],
   "source": [
    "# Excelファイルを読み込む際に、ヘッダーを2行目（インデックス1）にする\n",
    "df = pd.read_excel(file_path, header=1)\n",
    "#２列目を削除する\n",
    "df = df.drop(df.columns[1], axis=1)\n",
    "\n",
    "print(df.head())"
   ]
  },
  {
   "cell_type": "code",
   "execution_count": null,
   "id": "5069fe36",
   "metadata": {},
   "outputs": [],
   "source": []
  }
 ],
 "metadata": {
  "kernelspec": {
   "display_name": ".venv",
   "language": "python",
   "name": "python3"
  },
  "language_info": {
   "codemirror_mode": {
    "name": "ipython",
    "version": 3
   },
   "file_extension": ".py",
   "mimetype": "text/x-python",
   "name": "python",
   "nbconvert_exporter": "python",
   "pygments_lexer": "ipython3",
   "version": "3.12.7"
  }
 },
 "nbformat": 4,
 "nbformat_minor": 5
}
