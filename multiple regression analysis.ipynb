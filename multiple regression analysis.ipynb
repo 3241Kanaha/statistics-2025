{
 "cells": [
  {
   "cell_type": "code",
   "execution_count": 1,
   "id": "b7612c5d",
   "metadata": {},
   "outputs": [],
   "source": [
    "import numpy as np\n",
    "import pandas as pd\n",
    "import matplotlib.pyplot as plt\n",
    "import seaborn as sns"
   ]
  },
  {
   "cell_type": "code",
   "execution_count": 2,
   "id": "99be30b3",
   "metadata": {},
   "outputs": [
    {
     "name": "stdout",
     "output_type": "stream",
     "text": [
      "  SSDSE-D-2023   2021年 Prefecture         MA00           MB00  MB01 MB011  \\\n",
      "0         男女の別   地域コード       都道府県  推定人口（10歳以上）  学習・自己啓発・訓練の総数   外国語    英語   \n",
      "1         0_総数  R00000         全国       112462           39.6  14.1  12.8   \n",
      "2         0_総数  R01000        北海道         4614             35  11.1   9.9   \n",
      "3         0_総数  R02000        青森県         1090           25.4   7.4   6.6   \n",
      "4         0_総数  R03000        岩手県         1075           28.9   7.7   7.1   \n",
      "\n",
      "      MB012             MB02        MB021  ... MG20   MG51 MG52 MG53  \\\n",
      "0  英語以外の外国語  商業実務・ビジネス関係(総数)  パソコンなどの情報処理  ...  その他  通勤・通学   仕事   学業   \n",
      "1       4.2             20.1         16.5  ...   16     79  340  393   \n",
      "2       3.3               17         14.1  ...   15     64  343  391   \n",
      "3         2             12.7         10.3  ...   12     61  370  423   \n",
      "4       2.4             12.8         10.3  ...   17     63  362  472   \n",
      "\n",
      "       MH01      MH02      MH03      MH04      MH51       MH52  \n",
      "0        起床      朝食開始      夕食開始        就寝        出勤  仕事からの帰宅時間  \n",
      "1  06:38:00  07:11:00  18:58:00  23:04:00  08:20:00   18:34:00  \n",
      "2  06:33:00  07:13:00  18:36:00  22:50:00  08:19:00   18:07:00  \n",
      "3  06:17:00  06:59:00  18:31:00  22:29:00  08:09:00   18:01:00  \n",
      "4  06:21:00  06:59:00  18:44:00  22:35:00  08:09:00   18:06:00  \n",
      "\n",
      "[5 rows x 124 columns]\n"
     ]
    }
   ],
   "source": [
    "file_path = '/Users/kanaha/statistics/SSDSE-D-2023.xlsx'\n",
    "df = pd.read_excel(file_path)\n",
    "print(df.head())"
   ]
  },
  {
   "cell_type": "code",
   "execution_count": 3,
   "id": "8f202070",
   "metadata": {},
   "outputs": [
    {
     "name": "stdout",
     "output_type": "stream",
     "text": [
      "   男女の別 都道府県  推定人口（10歳以上）  学習・自己啓発・訓練の総数   外国語    英語  英語以外の外国語  \\\n",
      "0  0_総数   全国       112462           39.6  14.1  12.8       4.2   \n",
      "1  0_総数  北海道         4614           35.0  11.1   9.9       3.3   \n",
      "2  0_総数  青森県         1090           25.4   7.4   6.6       2.0   \n",
      "3  0_総数  岩手県         1075           28.9   7.7   7.1       2.4   \n",
      "4  0_総数  宮城県         2065           37.5  12.4  10.9       4.0   \n",
      "\n",
      "   商業実務・ビジネス関係(総数)  パソコンなどの情報処理  商業実務・ビジネス関係  ...  その他.4  通勤・通学.1  仕事.1  学業.1  \\\n",
      "0             20.1         16.5          8.5  ...     16       79   340   393   \n",
      "1             17.0         14.1          6.7  ...     15       64   343   391   \n",
      "2             12.7         10.3          5.2  ...     12       61   370   423   \n",
      "3             12.8         10.3          5.4  ...     17       63   362   472   \n",
      "4             18.9         16.0          7.4  ...     16       73   352   395   \n",
      "\n",
      "         起床      朝食開始      夕食開始        就寝        出勤  仕事からの帰宅時間  \n",
      "0  06:38:00  07:11:00  18:58:00  23:04:00  08:20:00   18:34:00  \n",
      "1  06:33:00  07:13:00  18:36:00  22:50:00  08:19:00   18:07:00  \n",
      "2  06:17:00  06:59:00  18:31:00  22:29:00  08:09:00   18:01:00  \n",
      "3  06:21:00  06:59:00  18:44:00  22:35:00  08:09:00   18:06:00  \n",
      "4  06:31:00  07:12:00  18:49:00  22:49:00  08:08:00   18:26:00  \n",
      "\n",
      "[5 rows x 123 columns]\n"
     ]
    }
   ],
   "source": [
    "# Excelファイルを読み込む際に、ヘッダーを2行目（インデックス1）にする\n",
    "df = pd.read_excel(file_path, header=1)\n",
    "#２列目を削除する\n",
    "df = df.drop(df.columns[1], axis=1)\n",
    "\n",
    "print(df.head())"
   ]
  },
  {
   "cell_type": "code",
   "execution_count": 4,
   "id": "5069fe36",
   "metadata": {},
   "outputs": [],
   "source": [
    "plt.rcParams['font.family'] = 'Hiragino Sans GB' # Macの場合の例\n",
    "plt.rcParams['axes.unicode_minus'] = False # マイナス記号を正しく表示するため"
   ]
  },
  {
   "cell_type": "markdown",
   "id": "04222807",
   "metadata": {},
   "source": [
    "##  趣味・娯楽における男女格差の要因分析"
   ]
  },
  {
   "cell_type": "code",
   "execution_count": 6,
   "id": "ef2ad823",
   "metadata": {},
   "outputs": [
    {
     "name": "stdout",
     "output_type": "stream",
     "text": [
      "                            OLS Regression Results                            \n",
      "==============================================================================\n",
      "Dep. Variable:               趣味・娯楽の格差   R-squared:                       0.236\n",
      "Model:                            OLS   Adj. R-squared:                  0.145\n",
      "Method:                 Least Squares   F-statistic:                     2.593\n",
      "Date:                Sat, 16 Aug 2025   Prob (F-statistic):             0.0393\n",
      "Time:                        13:59:39   Log-Likelihood:                -60.892\n",
      "No. Observations:                  48   AIC:                             133.8\n",
      "Df Residuals:                      42   BIC:                             145.0\n",
      "Df Model:                           5                                         \n",
      "Covariance Type:            nonrobust                                         \n",
      "==============================================================================\n",
      "                 coef    std err          t      P>|t|      [0.025      0.975]\n",
      "------------------------------------------------------------------------------\n",
      "const         -0.2437      0.536     -0.455      0.652      -1.326       0.838\n",
      "スポーツの格差        0.1105      0.065      1.700      0.096      -0.021       0.242\n",
      "学習・自己啓発の格差     0.0095      0.070      0.136      0.892      -0.131       0.150\n",
      "ボランティアの格差      0.1509      0.063      2.413      0.020       0.025       0.277\n",
      "睡眠時間の格差       -0.0188      0.031     -0.611      0.544      -0.081       0.043\n",
      "推定人口       -1.115e-06   1.76e-05     -0.063      0.950   -3.67e-05    3.44e-05\n",
      "==============================================================================\n",
      "Omnibus:                        3.361   Durbin-Watson:                   2.230\n",
      "Prob(Omnibus):                  0.186   Jarque-Bera (JB):                2.397\n",
      "Skew:                           0.518   Prob(JB):                        0.302\n",
      "Kurtosis:                       3.356   Cond. No.                     3.28e+04\n",
      "==============================================================================\n",
      "\n",
      "Notes:\n",
      "[1] Standard Errors assume that the covariance matrix of the errors is correctly specified.\n",
      "[2] The condition number is large, 3.28e+04. This might indicate that there are\n",
      "strong multicollinearity or other numerical problems.\n"
     ]
    }
   ],
   "source": [
    "import numpy as np\n",
    "import pandas as pd\n",
    "import statsmodels.api as sm\n",
    "\n",
    "# データDの読み込み（仮定）\n",
    "# 実際には、ご自身のファイルパスに合わせて修正してください\n",
    "file_path = 'SSDSE-D-2023.xlsx'\n",
    "df_raw = pd.read_excel(file_path, header=1)\n",
    "\n",
    "# 2列目（地域コード）を削除\n",
    "df_raw = df_raw.drop(df_raw.columns[1], axis=1)\n",
    "\n",
    "# 男女別のデータに分割\n",
    "df_male = df_raw[df_raw['男女の別'] == '1_男'].copy()\n",
    "df_female = df_raw[df_raw['男女の別'] == '2_女'].copy()\n",
    "\n",
    "# 都道府県名をキーとして結合するためにインデックスを設定\n",
    "df_male.set_index('都道府県', inplace=True)\n",
    "df_female.set_index('都道府県', inplace=True)\n",
    "\n",
    "# 目的変数と説明変数を作成するためのデータフレームを初期化\n",
    "df_diff = pd.DataFrame(index=df_male.index)\n",
    "\n",
    "# 目的変数: 趣味・娯楽の男女格差\n",
    "df_diff['趣味・娯楽の格差'] = df_female['趣味・娯楽の総数'] - df_male['趣味・娯楽の総数']\n",
    "\n",
    "# 説明変数: 各活動の男女格差\n",
    "df_diff['スポーツの格差'] = df_female['スポーツの総数'] - df_male['スポーツの総数']\n",
    "df_diff['学習・自己啓発の格差'] = df_female['学習・自己啓発・訓練の総数'] - df_male['学習・自己啓発・訓練の総数']\n",
    "df_diff['ボランティアの格差'] = df_female['ボランティア活動の総数'] - df_male['ボランティア活動の総数']\n",
    "df_diff['睡眠時間の格差'] = df_female['睡眠'] - df_male['睡眠']\n",
    "\n",
    "# 推定人口を説明変数として追加\n",
    "# 男女の合計値として、男性の推定人口を使用（女性もほぼ同じ値のため）\n",
    "df_diff['推定人口'] = df_male['推定人口（10歳以上）']\n",
    "\n",
    "# 重回帰分析の実行\n",
    "# 目的変数\n",
    "y = df_diff['趣味・娯楽の格差']\n",
    "\n",
    "# 説明変数\n",
    "X = df_diff[['スポーツの格差', '学習・自己啓発の格差', 'ボランティアの格差', '睡眠時間の格差', '推定人口']]\n",
    "\n",
    "# 定数項の追加（切片）\n",
    "X = sm.add_constant(X)\n",
    "\n",
    "# モデルの構築とフィッティング\n",
    "model = sm.OLS(y, X)\n",
    "results = model.fit()\n",
    "\n",
    "# 結果の表示\n",
    "print(results.summary())"
   ]
  },
  {
   "cell_type": "markdown",
   "id": "9e5b8aa4",
   "metadata": {},
   "source": [
    "1. モデル全体の評価\n",
    "R-squared (決定係数): 0.236\n",
    "これは、モデルが目的変数である「趣味・娯楽の格差」の変動の約23.6%を説明できていることを意味します。この値は高くないため、このモデルでは「趣味・娯楽の格差」を完全に説明できておらず、他に影響を与える要因があることを示唆しています。\n",
    "F-statistic (F統計量): 2.593, Prob (F-statistic): 0.0393\n",
    "このp値は0.05を下回っているため、このモデル全体は統計的に有意であると判断できます。つまり、すべての説明変数のうち、少なくとも1つは目的変数に有意な影響を与えていると言えます。\n",
    "2. 個々の説明変数の評価\n",
    "ボランティアの格差 (ボランティアの格差):\n",
    "coef (係数): 0.1509\n",
    "P>|t| (p値): 0.020\n",
    "このp値は0.05を下回っており、統計的に有意です。係数がプラスであることから、「ボランティア活動における男女格差が大きい都道府県ほど、趣味・娯楽における男女格差も大きい」という正の相関関係があることが示されました。\n",
    "スポーツの格差 (スポーツの格差):\n",
    "coef (係数): 0.1105\n",
    "P>|t| (p値): 0.096\n",
    "p値は0.05をわずかに上回っていますが、一般的に0.10を下回る場合は「弱い有意性」があると考えられます。プラスの係数から、スポーツ活動の男女格差が大きいほど、趣味・娯楽の男女格差も大きい傾向にあることが示唆されます。\n",
    "その他の変数:\n",
    "学習・自己啓発の格差、睡眠時間の格差、推定人口のp値はすべて0.10を大きく上回っており、これらは統計的に有意ではないと判断されます。つまり、これらの変数と「趣味・娯楽の格差」との間には、このモデルにおいては明確な関係性を見出すことができませんでした。\n",
    "3. 注意点\n",
    "多重共線性 (Multicollinearity):\n",
    "Notesの欄にThe condition number is large...This might indicate that there are strong multicollinearity...と記載されています。これは、説明変数間に高い相関がある可能性があることを示しています。多重共線性が存在すると、係数の解釈が不安定になることがあるため注意が必要です。\n",
    "結論\n",
    "この重回帰分析の結果から、都道府県ごとの「趣味・娯楽の男女格差」は、「ボランティア活動の男女格差」と正の関係があることが統計的に有意に示されました。また、「スポーツ活動の男女格差」も弱いながらも同様の関係性を示唆しています。一方で、「学習・自己啓発の格差」「睡眠時間の格差」「推定人口」は、「趣味・娯楽の格差」と統計的に有意な関係はないと結論付けられます。"
   ]
  },
  {
   "cell_type": "code",
   "execution_count": null,
   "id": "8617a437",
   "metadata": {},
   "outputs": [],
   "source": []
  }
 ],
 "metadata": {
  "kernelspec": {
   "display_name": ".venv",
   "language": "python",
   "name": "python3"
  },
  "language_info": {
   "codemirror_mode": {
    "name": "ipython",
    "version": 3
   },
   "file_extension": ".py",
   "mimetype": "text/x-python",
   "name": "python",
   "nbconvert_exporter": "python",
   "pygments_lexer": "ipython3",
   "version": "3.12.7"
  }
 },
 "nbformat": 4,
 "nbformat_minor": 5
}
