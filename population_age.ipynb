{
 "cells": [
  {
   "cell_type": "code",
   "execution_count": 1,
   "id": "dc21cb30",
   "metadata": {},
   "outputs": [],
   "source": [
    "import pandas as pd\n",
    "import numpy as np\n",
    "import re\n",
    "import matplotlib.pyplot as plt\n",
    "import seaborn as sns"
   ]
  },
  {
   "cell_type": "code",
   "execution_count": 2,
   "id": "83dde55c",
   "metadata": {},
   "outputs": [
    {
     "name": "stdout",
     "output_type": "stream",
     "text": [
      "<class 'pandas.core.frame.DataFrame'>\n",
      "    地域コード 都道府県 市区町村      総人口  総人口（男）   総人口（女）    日本人人口  日本人人口（男）  日本人人口（女）  \\\n",
      "0  R01100  北海道  札幌市  1973395  918682  1054713  1933094    897727   1035367   \n",
      "1  R01202  北海道  函館市   251084  113965   137119   248208    112718    135490   \n",
      "2  R01203  北海道  小樽市   111299   50136    61163   109971     49441     60530   \n",
      "3  R01204  北海道  旭川市   329306  152108   177198   325287    150318    174969   \n",
      "4  R01205  北海道  室蘭市    82383   40390    41993    81658     39960     41698   \n",
      "\n",
      "   15歳未満人口  ...   小売店数  飲食店数  大型小売店数  一般病院数  一般診療所数  歯科診療所数   医師数  歯科医師数  \\\n",
      "0   215366  ...  10370  7354     348    177    1413    1206  6978   2142   \n",
      "1    23560  ...   2163  1256      41     26     206     122   822    182   \n",
      "2     9169  ...   1097   616      17     11      79      78   338    105   \n",
      "3    34691  ...   2409  1503      67     33     227     170  1364    246   \n",
      "4     7769  ...    621   447      13      6      52      39   249     56   \n",
      "\n",
      "   薬剤師数  保育所等数（基本票）  \n",
      "0  5758         368  \n",
      "1   683          54  \n",
      "2   334          23  \n",
      "3   876          72  \n",
      "4   193          12  \n",
      "\n",
      "[5 rows x 128 columns]\n"
     ]
    }
   ],
   "source": [
    "# ① CSV のパス\n",
    "csv_path = '/Users/kanaha/statistics/SSDSE-A-2024.csv'\n",
    "\n",
    "# ② 先頭 1 行（不要な行）をスキップして読み込む\n",
    "#    → 2 行目が列名、3 行目以降がデータとなる\n",
    "df = pd.read_csv(\n",
    "        csv_path,\n",
    "        encoding='shift-jis',   # 元ファイルが Shift-JIS の場合\n",
    "        skiprows=2,            # 先頭 1 行を読み飛ばす\n",
    "        header=0               # （既定値）skiprows 後の 1 行目を列名にする\n",
    "     )\n",
    "\n",
    "# ③ これですでに DataFrame 型\n",
    "print(type(df))         # <class 'pandas.core.frame.DataFrame'>\n",
    "\n",
    "# ④ 内容を確認\n",
    "print(df.head())        # 先頭 5 行を表示\n",
    "\n",
    "# ⑤ 必要であればインデックスを振り直す\n",
    "df.reset_index(drop=True, inplace=True)\n",
    "\n",
    "# ⑥ 後で再保存したい場合\n",
    "# df.to_csv(csv_path, index=False, encoding='shift-jis')"
   ]
  },
  {
   "cell_type": "code",
   "execution_count": 3,
   "id": "e4241c62",
   "metadata": {},
   "outputs": [],
   "source": [
    "plt.rcParams['font.family'] = 'Hiragino Sans GB' # Macの場合の例\n",
    "plt.rcParams['axes.unicode_minus'] = False # マイナス記号を正しく表示するため"
   ]
  },
  {
   "cell_type": "code",
   "execution_count": null,
   "id": "c69cf0b1",
   "metadata": {},
   "outputs": [],
   "source": []
  }
 ],
 "metadata": {
  "kernelspec": {
   "display_name": ".venv",
   "language": "python",
   "name": "python3"
  },
  "language_info": {
   "codemirror_mode": {
    "name": "ipython",
    "version": 3
   },
   "file_extension": ".py",
   "mimetype": "text/x-python",
   "name": "python",
   "nbconvert_exporter": "python",
   "pygments_lexer": "ipython3",
   "version": "3.12.7"
  }
 },
 "nbformat": 4,
 "nbformat_minor": 5
}
