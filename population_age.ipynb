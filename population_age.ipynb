{
 "cells": [
  {
   "cell_type": "code",
   "execution_count": 1,
   "id": "dc21cb30",
   "metadata": {},
   "outputs": [],
   "source": [
    "import pandas as pd\n",
    "import numpy as np\n",
    "import re\n",
    "import matplotlib.pyplot as plt\n",
    "import seaborn as sns"
   ]
  },
  {
   "cell_type": "code",
   "execution_count": null,
   "id": "83dde55c",
   "metadata": {},
   "outputs": [],
   "source": [
    "# ① CSV のパス\n",
    "csv_path = '/Users/kanaha/statistics/SSDSE-A-2024.csv'\n",
    "\n",
    "# ② 先頭 1 行（不要な行）をスキップして読み込む\n",
    "#    → 2 行目が列名、3 行目以降がデータとなる\n",
    "df = pd.read_csv(\n",
    "        csv_path,\n",
    "        encoding='shift-jis',   # 元ファイルが Shift-JIS の場合\n",
    "        skiprows=2,            # 先頭 1 行を読み飛ばす\n",
    "        header=0               # （既定値）skiprows 後の 1 行目を列名にする\n",
    "     )\n",
    "\n",
    "# ③ これですでに DataFrame 型\n",
    "print(type(df))         # <class 'pandas.core.frame.DataFrame'>\n",
    "\n",
    "# ④ 内容を確認\n",
    "print(df.head())        # 先頭 5 行を表示\n",
    "\n",
    "# ⑤ 必要であればインデックスを振り直す\n",
    "df.reset_index(drop=True, inplace=True)\n",
    "\n",
    "# ⑥ 後で再保存したい場合\n",
    "# df.to_csv(csv_path, index=False, encoding='shift-jis')"
   ]
  }
 ],
 "metadata": {
  "kernelspec": {
   "display_name": ".venv",
   "language": "python",
   "name": "python3"
  },
  "language_info": {
   "codemirror_mode": {
    "name": "ipython",
    "version": 3
   },
   "file_extension": ".py",
   "mimetype": "text/x-python",
   "name": "python",
   "nbconvert_exporter": "python",
   "pygments_lexer": "ipython3",
   "version": "3.12.7"
  }
 },
 "nbformat": 4,
 "nbformat_minor": 5
}
